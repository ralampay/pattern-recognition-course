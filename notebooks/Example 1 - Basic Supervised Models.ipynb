{
 "cells": [
  {
   "cell_type": "code",
   "execution_count": null,
   "id": "8fd0f045",
   "metadata": {},
   "outputs": [],
   "source": [
    "import pandas as pd\n",
    "from sklearn.metrics import confusion_matrix\n",
    "from sklearn.metrics import classification_report\n",
    "from sklearn.neighbors import KNeighborsClassifier\n",
    "from sklearn.linear_model import LogisticRegression\n",
    "from sklearn.naive_bayes import GaussianNB\n",
    "from sklearn.ensemble import RandomForestClassifier\n",
    "import math"
   ]
  },
  {
   "cell_type": "code",
   "execution_count": null,
   "id": "fb1e9013",
   "metadata": {},
   "outputs": [],
   "source": [
    "# Change this to the location of your wbpc.data file\n",
    "file_raw_data = \"/home/ralampay/workspace/pattern-recognition-course/data/wdbc.csv\"\n",
    "\n",
    "# Data Frame\n",
    "raw_data = pd.read_csv(file_raw_data, header=None)\n",
    "\n",
    "raw_data"
   ]
  },
  {
   "cell_type": "code",
   "execution_count": null,
   "id": "2382e7a3",
   "metadata": {},
   "outputs": [],
   "source": [
    "x = raw_data.iloc[:,2:32]\n",
    "\n",
    "x"
   ]
  },
  {
   "cell_type": "code",
   "execution_count": null,
   "id": "21915615",
   "metadata": {},
   "outputs": [],
   "source": [
    "num_features = len(x.columns)\n",
    "\n",
    "print(\"Number of Features: {}\".format(num_features))"
   ]
  },
  {
   "cell_type": "code",
   "execution_count": null,
   "id": "b777e2e2",
   "metadata": {},
   "outputs": [],
   "source": [
    "columns = []\n",
    "\n",
    "for i in range(num_features):\n",
    "    columns.append(\"x{}\".format(i))\n",
    "\n",
    "x.columns = columns\n",
    "\n",
    "x"
   ]
  },
  {
   "cell_type": "code",
   "execution_count": null,
   "id": "0934b2a2",
   "metadata": {},
   "outputs": [],
   "source": [
    "# Z-score\n",
    "x_mean = x.mean()\n",
    "x_std = x.std()\n",
    "x_standardized = (x - x_mean)/x_std\n",
    "\n",
    "x_standardized"
   ]
  },
  {
   "cell_type": "code",
   "execution_count": null,
   "id": "12a35b82",
   "metadata": {},
   "outputs": [],
   "source": [
    "# Scaling things from 0 - 1\n",
    "x_normalized = (x - x.min()) / (x.max() - x.min())\n",
    "\n",
    "x_normalized"
   ]
  },
  {
   "cell_type": "code",
   "execution_count": null,
   "id": "33359c25",
   "metadata": {},
   "outputs": [],
   "source": [
    "y = raw_data[1].replace(['B'], 0).replace(['M'], 1)\n",
    "\n",
    "y = y.values\n",
    "\n",
    "y"
   ]
  },
  {
   "cell_type": "code",
   "execution_count": null,
   "id": "2f6a3018",
   "metadata": {},
   "outputs": [],
   "source": [
    "num_benign = len(raw_data[raw_data.iloc[:,1] == 'B'])\n",
    "num_malignant = len(raw_data[raw_data.iloc[:,1] == 'M'])\n",
    "\n",
    "print(\"num_benign: {}\".format(num_benign))\n",
    "print(\"num_malignant: {}\".format(num_malignant))"
   ]
  },
  {
   "cell_type": "code",
   "execution_count": null,
   "id": "b59b4612",
   "metadata": {},
   "outputs": [],
   "source": [
    "df = x_normalized.copy()\n",
    "df['y'] = y\n",
    "\n",
    "df"
   ]
  },
  {
   "cell_type": "code",
   "execution_count": null,
   "id": "beafb217",
   "metadata": {},
   "outputs": [],
   "source": [
    "def partition_dataset(df, num_a=20, num_b=20, val_a=1, val_b=0):\n",
    "    df_a = df[df.iloc[:,-1] == val_a].sample(num_a)\n",
    "    df_b = df[df.iloc[:,-1] == val_b].sample(num_b)\n",
    "    \n",
    "    df.drop(df_a.index, inplace=True)\n",
    "    df.drop(df_b.index, inplace=True)\n",
    "    \n",
    "    frames = [df_a, df_b]\n",
    "    df_validation = pd.concat(frames)\n",
    "    \n",
    "    return df, df_validation\n",
    "\n",
    "training, validation = partition_dataset(df, num_a=20, num_b=20)"
   ]
  },
  {
   "cell_type": "code",
   "execution_count": null,
   "id": "f5d84262",
   "metadata": {},
   "outputs": [],
   "source": [
    "training"
   ]
  },
  {
   "cell_type": "code",
   "execution_count": null,
   "id": "3b096b79",
   "metadata": {},
   "outputs": [],
   "source": [
    "validation"
   ]
  },
  {
   "cell_type": "code",
   "execution_count": null,
   "id": "b927d804",
   "metadata": {},
   "outputs": [],
   "source": [
    "x_training = training.iloc[:,:-1].values\n",
    "x_validation = validation.iloc[:,:-1].values\n",
    "\n",
    "y_training = training['y'].values\n",
    "y_validation = validation['y'].values\n",
    "\n",
    "y_validation"
   ]
  },
  {
   "cell_type": "code",
   "execution_count": null,
   "id": "37be8d05",
   "metadata": {},
   "outputs": [],
   "source": [
    "model = RandomForestClassifier(n_estimators=15)\n",
    "\n",
    "model.fit(x_training, y_training)\n",
    "\n",
    "predictions = model.predict(x_validation)\n",
    "\n",
    "predictions"
   ]
  },
  {
   "cell_type": "code",
   "execution_count": null,
   "id": "9fe06187",
   "metadata": {},
   "outputs": [],
   "source": [
    "cm = confusion_matrix(y_validation, predictions)\n",
    "tp = cm[0][0]\n",
    "tn = cm[1][1]\n",
    "fp = cm[0][1]\n",
    "fn = cm[1][0]\n",
    "\n",
    "mcc = ((tn * tp) - (fn * fp)) / math.sqrt((tp + fp) * (tp + fn) * (tn + fp) * (tn + fn))\n",
    "f1 = tp / (tp + (0.5 * (fp + fn)))\n",
    "\n",
    "print(classification_report(y_validation, predictions))\n",
    "print(\"MCC: {}\".format(mcc))\n",
    "print(\"F1: {}\".format(f1))"
   ]
  },
  {
   "cell_type": "code",
   "execution_count": null,
   "id": "aae6d38a",
   "metadata": {},
   "outputs": [],
   "source": [
    "# https://scikit-learn.org/stable/modules/generated/sklearn.neighbors.KNeighborsClassifier.html\n",
    "model = KNeighborsClassifier(n_neighbors=10)\n",
    "\n",
    "model.fit(x_training, y_training)\n",
    "\n",
    "predictions = model.predict(x_validation)\n",
    "\n",
    "predictions"
   ]
  },
  {
   "cell_type": "code",
   "execution_count": null,
   "id": "8102a51f",
   "metadata": {},
   "outputs": [],
   "source": [
    "cm = confusion_matrix(y_validation, predictions)\n",
    "tp = cm[0][0]\n",
    "tn = cm[1][1]\n",
    "fp = cm[0][1]\n",
    "fn = cm[1][0]\n",
    "\n",
    "mcc = ((tn * tp) - (fn * fp)) / math.sqrt((tp + fp) * (tp + fn) * (tn + fp) * (tn + fn))\n",
    "f1 = tp / (tp + (0.5 * (fp + fn)))\n",
    "\n",
    "print(classification_report(y_validation, predictions))\n",
    "print(\"MCC: {}\".format(mcc))\n",
    "print(\"F1: {}\".format(f1))"
   ]
  },
  {
   "cell_type": "code",
   "execution_count": null,
   "id": "cc9d6bf1",
   "metadata": {},
   "outputs": [],
   "source": [
    "# https://scikit-learn.org/stable/modules/naive_bayes.html\n",
    "model = GaussianNB()\n",
    "\n",
    "model.fit(x_training, y_training)\n",
    "\n",
    "predictions = model.predict(x_validation)"
   ]
  },
  {
   "cell_type": "code",
   "execution_count": null,
   "id": "a5d96c17",
   "metadata": {},
   "outputs": [],
   "source": [
    "cm = confusion_matrix(y_validation, predictions)\n",
    "tp = cm[0][0]\n",
    "tn = cm[1][1]\n",
    "fp = cm[0][1]\n",
    "fn = cm[1][0]\n",
    "\n",
    "mcc = ((tn * tp) - (fn * fp)) / math.sqrt((tp + fp) * (tp + fn) * (tn + fp) * (tn + fn))\n",
    "f1 = tp / (tp + (0.5 * (fp + fn)))\n",
    "\n",
    "print(classification_report(y_validation, predictions))\n",
    "print(\"MCC: {}\".format(mcc))\n",
    "print(\"F1: {}\".format(f1))"
   ]
  },
  {
   "cell_type": "code",
   "execution_count": null,
   "id": "1ffc7349",
   "metadata": {},
   "outputs": [],
   "source": [
    "# https://scikit-learn.org/stable/modules/generated/sklearn.linear_model.LogisticRegression.html\n",
    "model = LogisticRegression(random_state=0)\n",
    "\n",
    "model.fit(x_training, y_training)\n",
    "\n",
    "predictions = model.predict(x_validation)\n",
    "\n",
    "predictions"
   ]
  },
  {
   "cell_type": "code",
   "execution_count": null,
   "id": "ac751ba7",
   "metadata": {},
   "outputs": [],
   "source": [
    "cm = confusion_matrix(y_validation, predictions)\n",
    "tp = cm[0][0]\n",
    "tn = cm[1][1]\n",
    "fp = cm[0][1]\n",
    "fn = cm[1][0]\n",
    "\n",
    "mcc = ((tn * tp) - (fn * fp)) / math.sqrt((tp + fp) * (tp + fn) * (tn + fp) * (tn + fn))\n",
    "f1 = tp / (tp + (0.5 * (fp + fn)))\n",
    "\n",
    "print(classification_report(y_validation, predictions))\n",
    "print(\"MCC: {}\".format(mcc))\n",
    "print(\"F1: {}\".format(f1))"
   ]
  },
  {
   "cell_type": "code",
   "execution_count": null,
   "id": "72e2afc2",
   "metadata": {},
   "outputs": [],
   "source": [
    "# https://scikit-learn.org/stable/modules/naive_bayes.html\n",
    "model = GaussianNB()\n",
    "\n",
    "model.fit(x_training, y_training)\n",
    "\n",
    "predictions = model.predict(x_validation)\n",
    "\n",
    "predictions"
   ]
  },
  {
   "cell_type": "code",
   "execution_count": null,
   "id": "da4034f7",
   "metadata": {},
   "outputs": [],
   "source": [
    "cm = confusion_matrix(y_validation, predictions)\n",
    "tn = cm[0][0]\n",
    "tp = cm[1][1]\n",
    "fp = cm[0][1]\n",
    "fn = cm[1][0]\n",
    "\n",
    "mcc = ((tn * tp) - (fn * fp)) / math.sqrt((tp + fp) * (tp + fn) * (tn + fp) * (tn + fn))\n",
    "f1 = tp / (tp + (0.5 * (fp + fn)))\n",
    "\n",
    "print(classification_report(y_validation, predictions))\n",
    "print(\"MCC: {}\".format(mcc))\n",
    "print(\"F1: {}\".format(f1))"
   ]
  },
  {
   "cell_type": "code",
   "execution_count": null,
   "id": "3e7ace6c",
   "metadata": {},
   "outputs": [],
   "source": []
  }
 ],
 "metadata": {
  "kernelspec": {
   "display_name": "Python 3 (ipykernel)",
   "language": "python",
   "name": "python3"
  },
  "language_info": {
   "codemirror_mode": {
    "name": "ipython",
    "version": 3
   },
   "file_extension": ".py",
   "mimetype": "text/x-python",
   "name": "python",
   "nbconvert_exporter": "python",
   "pygments_lexer": "ipython3",
   "version": "3.10.6"
  }
 },
 "nbformat": 4,
 "nbformat_minor": 5
}

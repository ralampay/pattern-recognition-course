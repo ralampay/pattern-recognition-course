{
 "cells": [
  {
   "cell_type": "code",
   "execution_count": null,
   "id": "8fd0f045",
   "metadata": {},
   "outputs": [],
   "source": [
    "import pandas as pd\n",
    "from sklearn.metrics import confusion_matrix\n",
    "from sklearn.metrics import classification_report\n",
    "from sklearn.neighbors import KNeighborsClassifier\n",
    "from sklearn.linear_model import LogisticRegression\n",
    "from sklearn.naive_bayes import GaussianNB\n",
    "import math\n",
    "import torch\n",
    "import torch.nn as nn\n",
    "import torch.nn.functional as F\n",
    "import torch.optim as optim\n",
    "from tqdm import tqdm"
   ]
  },
  {
   "cell_type": "code",
   "execution_count": null,
   "id": "fb1e9013",
   "metadata": {},
   "outputs": [],
   "source": [
    "# Change this to the location of your wbpc.data file\n",
    "file_raw_data = \"/home/ralampay/workspace/pattern-recognition-course/data/wdbc.csv\"\n",
    "\n",
    "raw_data = pd.read_csv(file_raw_data, header=None)\n",
    "\n",
    "raw_data"
   ]
  },
  {
   "cell_type": "code",
   "execution_count": null,
   "id": "2382e7a3",
   "metadata": {},
   "outputs": [],
   "source": [
    "x = raw_data.iloc[:,2:32]\n",
    "\n",
    "x"
   ]
  },
  {
   "cell_type": "code",
   "execution_count": null,
   "id": "21915615",
   "metadata": {},
   "outputs": [],
   "source": [
    "num_features = len(x.columns)\n",
    "\n",
    "print(\"Number of Features: {}\".format(num_features))"
   ]
  },
  {
   "cell_type": "code",
   "execution_count": null,
   "id": "b777e2e2",
   "metadata": {},
   "outputs": [],
   "source": [
    "columns = []\n",
    "\n",
    "for i in range(num_features):\n",
    "    columns.append(\"x{}\".format(i))\n",
    "\n",
    "x.columns = columns\n",
    "\n",
    "x"
   ]
  },
  {
   "cell_type": "code",
   "execution_count": null,
   "id": "0934b2a2",
   "metadata": {},
   "outputs": [],
   "source": [
    "x_mean = x.mean()\n",
    "x_std = x.std()\n",
    "x_standardized = (x - x_mean)/x_std\n",
    "\n",
    "x_standardized"
   ]
  },
  {
   "cell_type": "code",
   "execution_count": null,
   "id": "ad183db6",
   "metadata": {},
   "outputs": [],
   "source": [
    "x_normalized = (x - x.min()) / (x.max() - x.min())\n",
    "\n",
    "x_normalized"
   ]
  },
  {
   "cell_type": "code",
   "execution_count": null,
   "id": "33359c25",
   "metadata": {},
   "outputs": [],
   "source": [
    "y = raw_data[1].replace(['B'], 0).replace(['M'], 1)\n",
    "\n",
    "y = y.values\n",
    "\n",
    "y"
   ]
  },
  {
   "cell_type": "code",
   "execution_count": null,
   "id": "9790881b",
   "metadata": {},
   "outputs": [],
   "source": [
    "num_benign = len(raw_data[raw_data.iloc[:,1] == 'B'])\n",
    "num_malignant = len(raw_data[raw_data.iloc[:,1] == 'M'])\n",
    "\n",
    "print(\"num_benign: {}\".format(num_benign))\n",
    "print(\"num_malignant: {}\".format(num_malignant))"
   ]
  },
  {
   "cell_type": "code",
   "execution_count": null,
   "id": "5c1ff51b",
   "metadata": {},
   "outputs": [],
   "source": [
    "df = x_normalized.copy()\n",
    "df['y'] = y\n",
    "\n",
    "df"
   ]
  },
  {
   "cell_type": "code",
   "execution_count": null,
   "id": "90f7ec15",
   "metadata": {},
   "outputs": [],
   "source": [
    "def partition_dataset(df, num_a=20, num_b=20, val_a=1, val_b=0):\n",
    "    df_a = df[df.iloc[:,-1] == val_a].sample(num_a)\n",
    "    df_b = df[df.iloc[:,-1] == val_b].sample(num_b)\n",
    "    \n",
    "    df.drop(df_a.index, inplace=True)\n",
    "    df.drop(df_b.index, inplace=True)\n",
    "    \n",
    "    frames = [df_a, df_b]\n",
    "    df_validation = pd.concat(frames)\n",
    "    \n",
    "    return df, df_validation\n",
    "\n",
    "training, validation = partition_dataset(df, num_a=20, num_b=20)"
   ]
  },
  {
   "cell_type": "code",
   "execution_count": null,
   "id": "29f35aa8",
   "metadata": {},
   "outputs": [],
   "source": [
    "training"
   ]
  },
  {
   "cell_type": "code",
   "execution_count": null,
   "id": "f96767b6",
   "metadata": {},
   "outputs": [],
   "source": [
    "validation"
   ]
  },
  {
   "cell_type": "code",
   "execution_count": null,
   "id": "327e79e8",
   "metadata": {},
   "outputs": [],
   "source": [
    "x_training = training.iloc[:,:-1].values\n",
    "x_validation = validation.iloc[:,:-1].values\n",
    "\n",
    "# From: y_initial = [1, 0]\n",
    "# To: y_transformer = [[1,0], [0, 1]]\n",
    "\n",
    "y_training = [[1, 0] if _y == 1 else [0, 1] for _y in training['y'].values]\n",
    "y_validation = [[1, 0] if _y == 1 else [0, 1] for _y in validation['y'].values]\n",
    "\n",
    "y_training"
   ]
  },
  {
   "cell_type": "code",
   "execution_count": null,
   "id": "2ffeffb4",
   "metadata": {},
   "outputs": [],
   "source": [
    "class MultiLayerPerceptron(nn.Module):\n",
    "    def __init__(self, input_dim, output_dim):\n",
    "        super().__init__()\n",
    "\n",
    "        self.input_1 = nn.Linear(input_dim, 25)\n",
    "        self.input_2 = nn.Linear(25, 20)\n",
    "        self.input_3 = nn.Linear(20, 10)\n",
    "        self.output = nn.Linear(10, output_dim)\n",
    "\n",
    "    def forward(self, x):\n",
    "        # f(x) = a(f(x))\n",
    "        x = F.relu(self.input_1(x))\n",
    "        x = F.relu(self.input_2(x))\n",
    "        x = F.relu(self.input_3(x))\n",
    "        y = F.sigmoid(self.output(x))\n",
    "        #y = F.softmax(y, dim=-1)\n",
    "\n",
    "        return y"
   ]
  },
  {
   "cell_type": "code",
   "execution_count": null,
   "id": "47fd7944",
   "metadata": {},
   "outputs": [],
   "source": [
    "model = MultiLayerPerceptron(30, 2)"
   ]
  },
  {
   "cell_type": "code",
   "execution_count": null,
   "id": "f0d6d729",
   "metadata": {},
   "outputs": [],
   "source": [
    "def count_parameters(model):\n",
    "    return sum(p.numel() for p in model.parameters() if p.requires_grad)\n",
    "\n",
    "print(f'The model has {count_parameters(model):,} trainable parameters')"
   ]
  },
  {
   "cell_type": "code",
   "execution_count": null,
   "id": "9444f49f",
   "metadata": {},
   "outputs": [],
   "source": [
    "optimizer = optim.Adam(model.parameters(), lr=0.001)"
   ]
  },
  {
   "cell_type": "code",
   "execution_count": null,
   "id": "bad3ef0e",
   "metadata": {},
   "outputs": [],
   "source": [
    "criterion = nn.CrossEntropyLoss()"
   ]
  },
  {
   "cell_type": "code",
   "execution_count": null,
   "id": "973fe178",
   "metadata": {},
   "outputs": [],
   "source": [
    "#device = torch.device('cuda' if torch.cuda.is_available() else 'cpu')\n",
    "device = 'cpu'"
   ]
  },
  {
   "cell_type": "code",
   "execution_count": null,
   "id": "bdbf889b",
   "metadata": {},
   "outputs": [],
   "source": [
    "criterion = criterion.to(device)"
   ]
  },
  {
   "cell_type": "code",
   "execution_count": null,
   "id": "d30265b5",
   "metadata": {},
   "outputs": [],
   "source": [
    "from torch.utils.data import Dataset\n",
    "\n",
    "class CustomDataset(Dataset):\n",
    "    def __init__(self, x, y):\n",
    "        self.x = x\n",
    "        self.y = y\n",
    "        \n",
    "        self.n_samples = len(x)\n",
    "    \n",
    "    def __getitem__(self, index):\n",
    "        return self.x[index], self.y[index]\n",
    "    \n",
    "    def __len__(self):\n",
    "        return self.n_samples"
   ]
  },
  {
   "cell_type": "code",
   "execution_count": null,
   "id": "f37812c7",
   "metadata": {},
   "outputs": [],
   "source": [
    "x = torch.tensor(x_training).float().to(device)\n",
    "y = torch.tensor(y_training).float().to(device)\n",
    "\n",
    "training_ds = CustomDataset(x, y)"
   ]
  },
  {
   "cell_type": "code",
   "execution_count": null,
   "id": "273be1d7",
   "metadata": {},
   "outputs": [],
   "source": [
    "from torch.utils.data import DataLoader\n",
    "\n",
    "batch_size = 5\n",
    "\n",
    "train_loader = DataLoader(\n",
    "    training_ds,\n",
    "    batch_size=batch_size,\n",
    "    shuffle=False,\n",
    "    drop_last=False\n",
    ")"
   ]
  },
  {
   "cell_type": "code",
   "execution_count": null,
   "id": "0d5e46ac",
   "metadata": {},
   "outputs": [],
   "source": [
    "def train_fn(loader, model, optimizer, loss_fn, device):\n",
    "    loop = tqdm(loader)\n",
    "\n",
    "    ave_loss = 0\n",
    "    count = 0 \n",
    "    for batch_idx, (data, targets) in enumerate(loop):\n",
    "        data = data.to(device=device)\n",
    "        targets = targets.to(device=device)\n",
    "        \n",
    "        # Forward\n",
    "        predictions = model.forward(data)\n",
    "        \n",
    "        predictions = F.softmax(predictions, dim=-1)\n",
    "        \n",
    "        loss = loss_fn(predictions, targets)\n",
    "        \n",
    "        # Backward\n",
    "        optimizer.zero_grad()\n",
    "        \n",
    "        loss.backward()\n",
    "        \n",
    "        optimizer.step()\n",
    "        \n",
    "        # Update tqdm\n",
    "        loop.set_postfix(loss=loss.item())\n",
    "\n",
    "        count += 1\n",
    "        ave_loss += loss.item()\n",
    "    \n",
    "    ave_loss = ave_loss / count\n",
    "\n",
    "    return ave_loss\n",
    "\n",
    "epochs = 10\n",
    "\n",
    "for epoch in range(epochs):\n",
    "    print(\"Epoch: {}\".format(epoch))\n",
    "    ave_loss = train_fn(train_loader, model, optimizer, criterion, device)\n",
    "    print(\"Ave Loss: {}\".format(ave_loss))"
   ]
  },
  {
   "cell_type": "code",
   "execution_count": null,
   "id": "8a94f0f1",
   "metadata": {},
   "outputs": [],
   "source": [
    "predictions = model.forward(torch.tensor(x_validation).float())\n",
    "print(predictions)\n",
    "#predictions = F.one_hot(predictions, -1)\n",
    "\n",
    "predictions = predictions.detach().cpu().numpy()\n",
    "predictions = [[1, 0] if _y[0] > _y[1] else [0, 1] for _y in predictions]\n",
    "predictions"
   ]
  },
  {
   "cell_type": "code",
   "execution_count": null,
   "id": "6928259c",
   "metadata": {},
   "outputs": [],
   "source": [
    "y_validation"
   ]
  },
  {
   "cell_type": "code",
   "execution_count": null,
   "id": "f3e92dc3",
   "metadata": {},
   "outputs": [],
   "source": []
  },
  {
   "cell_type": "code",
   "execution_count": null,
   "id": "0d9dec3c",
   "metadata": {},
   "outputs": [],
   "source": []
  }
 ],
 "metadata": {
  "kernelspec": {
   "display_name": "Python 3 (ipykernel)",
   "language": "python",
   "name": "python3"
  },
  "language_info": {
   "codemirror_mode": {
    "name": "ipython",
    "version": 3
   },
   "file_extension": ".py",
   "mimetype": "text/x-python",
   "name": "python",
   "nbconvert_exporter": "python",
   "pygments_lexer": "ipython3",
   "version": "3.10.6"
  },
  "vscode": {
   "interpreter": {
    "hash": "916dbcbb3f70747c44a77c7bcd40155683ae19c65e1c03b4aa3499c5328201f1"
   }
  }
 },
 "nbformat": 4,
 "nbformat_minor": 5
}

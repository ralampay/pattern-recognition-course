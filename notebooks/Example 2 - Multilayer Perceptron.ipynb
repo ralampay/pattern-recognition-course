{
 "cells": [
  {
   "cell_type": "code",
   "execution_count": null,
   "id": "8fd0f045",
   "metadata": {},
   "outputs": [],
   "source": [
    "import pandas as pd\n",
    "from sklearn.metrics import confusion_matrix\n",
    "from sklearn.metrics import classification_report\n",
    "from sklearn.neighbors import KNeighborsClassifier\n",
    "from sklearn.linear_model import LogisticRegression\n",
    "from sklearn.naive_bayes import GaussianNB\n",
    "import math\n",
    "import torch\n",
    "import torch.nn as nn\n",
    "import torch.nn.functional as F\n",
    "import torch.optim as optim"
   ]
  },
  {
   "cell_type": "code",
   "execution_count": null,
   "id": "fb1e9013",
   "metadata": {},
   "outputs": [],
   "source": [
    "# Change this to the location of your wbpc.data file\n",
    "file_raw_data = \"/home/ralampay/workspace/pattern-recognition-course/data/wdbc.data\"\n",
    "\n",
    "raw_data = pd.read_csv(file_raw_data, header=None)\n",
    "\n",
    "raw_data"
   ]
  },
  {
   "cell_type": "code",
   "execution_count": null,
   "id": "2382e7a3",
   "metadata": {},
   "outputs": [],
   "source": [
    "x = raw_data.iloc[:,2:31]\n",
    "\n",
    "x"
   ]
  },
  {
   "cell_type": "code",
   "execution_count": null,
   "id": "21915615",
   "metadata": {},
   "outputs": [],
   "source": [
    "num_features = len(x.columns)\n",
    "\n",
    "print(\"Number of Features: {}\".format(num_features))"
   ]
  },
  {
   "cell_type": "code",
   "execution_count": null,
   "id": "b777e2e2",
   "metadata": {},
   "outputs": [],
   "source": [
    "columns = []\n",
    "\n",
    "for i in range(num_features):\n",
    "    columns.append(\"x{}\".format(i))\n",
    "\n",
    "x.columns = columns\n",
    "\n",
    "x"
   ]
  },
  {
   "cell_type": "code",
   "execution_count": null,
   "id": "0934b2a2",
   "metadata": {},
   "outputs": [],
   "source": [
    "x_mean = x.mean()\n",
    "x_std = x.std()\n",
    "x_standardized = (x - x_mean)/x_std\n",
    "\n",
    "x_standardized"
   ]
  },
  {
   "cell_type": "code",
   "execution_count": null,
   "id": "ad183db6",
   "metadata": {},
   "outputs": [],
   "source": [
    "x_normalized = (x - x.min()) / (x.max() - x.min())\n",
    "\n",
    "x_normalized"
   ]
  },
  {
   "cell_type": "code",
   "execution_count": null,
   "id": "33359c25",
   "metadata": {},
   "outputs": [],
   "source": [
    "y = raw_data[1].replace(['B'], 0).replace(['M'], 1)\n",
    "\n",
    "y = y.values\n",
    "\n",
    "y"
   ]
  },
  {
   "cell_type": "code",
   "execution_count": null,
   "id": "9790881b",
   "metadata": {},
   "outputs": [],
   "source": [
    "num_benign = len(raw_data[raw_data.iloc[:,1] == 'B'])\n",
    "num_malignant = len(raw_data[raw_data.iloc[:,1] == 'M'])\n",
    "\n",
    "print(\"num_benign: {}\".format(num_benign))\n",
    "print(\"num_malignant: {}\".format(num_malignant))"
   ]
  },
  {
   "cell_type": "code",
   "execution_count": null,
   "id": "5c1ff51b",
   "metadata": {},
   "outputs": [],
   "source": [
    "df = x_normalized.copy()\n",
    "df['y'] = y\n",
    "\n",
    "df"
   ]
  },
  {
   "cell_type": "code",
   "execution_count": null,
   "id": "90f7ec15",
   "metadata": {},
   "outputs": [],
   "source": [
    "def partition_dataset(df, num_a=20, num_b=20, val_a=1, val_b=0):\n",
    "    df_a = df[df.iloc[:,-1] == val_a].sample(num_a)\n",
    "    df_b = df[df.iloc[:,-1] == val_b].sample(num_b)\n",
    "    \n",
    "    df.drop(df_a.index, inplace=True)\n",
    "    df.drop(df_b.index, inplace=True)\n",
    "    \n",
    "    frames = [df_a, df_b]\n",
    "    df_validation = pd.concat(frames)\n",
    "    \n",
    "    return df, df_validation\n",
    "\n",
    "training, validation = partition_dataset(df, num_a=20, num_b=20)"
   ]
  },
  {
   "cell_type": "code",
   "execution_count": null,
   "id": "29f35aa8",
   "metadata": {},
   "outputs": [],
   "source": [
    "training"
   ]
  },
  {
   "cell_type": "code",
   "execution_count": null,
   "id": "f96767b6",
   "metadata": {},
   "outputs": [],
   "source": [
    "validation"
   ]
  },
  {
   "cell_type": "code",
   "execution_count": null,
   "id": "327e79e8",
   "metadata": {},
   "outputs": [],
   "source": [
    "x_training = training.iloc[:,:-1].values\n",
    "x_validation = validation.iloc[:,:-1].values\n",
    "\n",
    "y_training = training['y'].values\n",
    "y_validation = validation['y'].values"
   ]
  },
  {
   "cell_type": "code",
   "execution_count": null,
   "id": "2ffeffb4",
   "metadata": {},
   "outputs": [],
   "source": [
    "class MultiLayerPerceptron(nn.Module):\n",
    "    def __init__(self, input_dim, output_dim):\n",
    "        super().__init__()\n",
    "\n",
    "        self.input_fc = nn.Linear(input_dim, 20)\n",
    "        self.hidden_fc = nn.Linear(20, 10)\n",
    "        self.output_fc = nn.Linear(10, output_dim)\n",
    "\n",
    "    def forward(self, x):\n",
    "\n",
    "        # x = [batch size, height, width]\n",
    "\n",
    "#         batch_size = x.shape[0]\n",
    "\n",
    "#         x = x.view(batch_size, -1)\n",
    "\n",
    "        h_1 = F.relu(self.input_fc(x))\n",
    "\n",
    "        h_2 = F.relu(self.hidden_fc(h_1))\n",
    "\n",
    "        y_pred = self.output_fc(h_2)\n",
    "\n",
    "        # y_pred = [batch size, output dim]\n",
    "\n",
    "        return y_pred,"
   ]
  },
  {
   "cell_type": "code",
   "execution_count": null,
   "id": "47fd7944",
   "metadata": {},
   "outputs": [],
   "source": [
    "model = MultiLayerPerceptron(29, 1)"
   ]
  },
  {
   "cell_type": "code",
   "execution_count": null,
   "id": "f0d6d729",
   "metadata": {},
   "outputs": [],
   "source": [
    "def count_parameters(model):\n",
    "    return sum(p.numel() for p in model.parameters() if p.requires_grad)\n",
    "\n",
    "print(f'The model has {count_parameters(model):,} trainable parameters')"
   ]
  },
  {
   "cell_type": "code",
   "execution_count": null,
   "id": "9444f49f",
   "metadata": {},
   "outputs": [],
   "source": [
    "optimizer = optim.Adam(model.parameters())"
   ]
  },
  {
   "cell_type": "code",
   "execution_count": null,
   "id": "bad3ef0e",
   "metadata": {},
   "outputs": [],
   "source": [
    "criterion = nn.MSELoss()"
   ]
  },
  {
   "cell_type": "code",
   "execution_count": null,
   "id": "973fe178",
   "metadata": {},
   "outputs": [],
   "source": [
    "device = torch.device('cuda' if torch.cuda.is_available() else 'cpu')"
   ]
  },
  {
   "cell_type": "code",
   "execution_count": null,
   "id": "bdbf889b",
   "metadata": {},
   "outputs": [],
   "source": []
  }
 ],
 "metadata": {
  "kernelspec": {
   "display_name": "Python 3 (ipykernel)",
   "language": "python",
   "name": "python3"
  },
  "language_info": {
   "codemirror_mode": {
    "name": "ipython",
    "version": 3
   },
   "file_extension": ".py",
   "mimetype": "text/x-python",
   "name": "python",
   "nbconvert_exporter": "python",
   "pygments_lexer": "ipython3",
   "version": "3.10.4"
  }
 },
 "nbformat": 4,
 "nbformat_minor": 5
}

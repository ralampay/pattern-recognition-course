{
 "cells": [
  {
   "cell_type": "code",
   "execution_count": null,
   "id": "02094170",
   "metadata": {},
   "outputs": [],
   "source": [
    "import pandas as pd\n",
    "from sklearn.model_selection import train_test_split\n",
    "import math\n",
    "import numpy as np\n",
    "import matplotlib.pyplot as plt\n",
    "from sklearn.metrics import accuracy_score\n",
    "import random\n",
    "from sklearn.manifold import TSNE\n",
    "import seaborn as sns\n",
    "import plotly.express as px"
   ]
  },
  {
   "cell_type": "code",
   "execution_count": null,
   "id": "50ab784d",
   "metadata": {},
   "outputs": [],
   "source": [
    "df = pd.read_csv(\"phoneprices.csv\")\n",
    "\n",
    "x = df.iloc[:,:-1]\n",
    "\n",
    "x_normalized = (x - x.min()) / (x.max() - x.min())\n",
    "\n",
    "x_normalized"
   ]
  },
  {
   "cell_type": "code",
   "execution_count": null,
   "id": "70e5d4e0",
   "metadata": {},
   "outputs": [],
   "source": [
    "y = pd.get_dummies(df.iloc[:,-1], prefix='y')\n",
    "\n",
    "y"
   ]
  },
  {
   "cell_type": "code",
   "execution_count": null,
   "id": "a144ac00",
   "metadata": {},
   "outputs": [],
   "source": [
    "x_normalized.corr()"
   ]
  },
  {
   "cell_type": "code",
   "execution_count": null,
   "id": "caea5a0f",
   "metadata": {},
   "outputs": [],
   "source": [
    "df_normalized = pd.concat([x_normalized, df['price_range']], axis=1)\n",
    "\n",
    "df_normalized"
   ]
  },
  {
   "cell_type": "code",
   "execution_count": null,
   "id": "f1fe8dd1",
   "metadata": {},
   "outputs": [],
   "source": [
    "fig = px.scatter_3d(df_normalized, x=\"ram\", y=\"clock_speed\", z=\"int_memory\", color=\"price_range\")\n",
    "#fig = px.scatter(df_normalized, x=\"ram\", y=\"clock_speed\", color=\"price_range\")\n",
    "fig.show()"
   ]
  },
  {
   "cell_type": "code",
   "execution_count": null,
   "id": "310cfc54",
   "metadata": {},
   "outputs": [],
   "source": []
  }
 ],
 "metadata": {
  "kernelspec": {
   "display_name": "Python 3",
   "language": "python",
   "name": "python3"
  },
  "language_info": {
   "codemirror_mode": {
    "name": "ipython",
    "version": 3
   },
   "file_extension": ".py",
   "mimetype": "text/x-python",
   "name": "python",
   "nbconvert_exporter": "python",
   "pygments_lexer": "ipython3",
   "version": "3.10.6"
  }
 },
 "nbformat": 4,
 "nbformat_minor": 5
}
